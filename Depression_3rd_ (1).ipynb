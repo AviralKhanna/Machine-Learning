{
  "nbformat": 4,
  "nbformat_minor": 0,
  "metadata": {
    "colab": {
      "provenance": []
    },
    "kernelspec": {
      "name": "python3",
      "display_name": "Python 3"
    },
    "language_info": {
      "name": "python"
    }
  },
  "cells": [
    {
      "cell_type": "code",
      "execution_count": null,
      "metadata": {
        "id": "nfjyjm4ncLpZ"
      },
      "outputs": [],
      "source": [
        "# THIS IS THE MOST RECENT WORK DID ON DEPRESSION PROJECT"
      ]
    },
    {
      "cell_type": "markdown",
      "source": [
        "# **Catestrophic Forgetting**"
      ],
      "metadata": {
        "id": "P8jpMiVkcRJV"
      }
    },
    {
      "cell_type": "markdown",
      "source": [
        "# Loading And Testing CNN model on EDAIC"
      ],
      "metadata": {
        "id": "XcIZJMrncRWk"
      }
    },
    {
      "cell_type": "code",
      "source": [
        "import pandas as pd\n",
        "from sklearn.preprocessing import StandardScaler\n",
        "from sklearn.metrics import classification_report, accuracy_score, f1_score, confusion_matrix\n",
        "from tensorflow.keras.models import load_model\n",
        "import seaborn as sns\n",
        "import matplotlib.pyplot as plt\n",
        "\n",
        "# Load the saved model\n",
        "model_save_path = '/content/drive/MyDrive/Depression/Model/latest_CNN.h5'  # Update with your model's path\n",
        "try:\n",
        "    loaded_model = load_model(model_save_path)\n",
        "    print(\"Model loaded successfully.\")\n",
        "except Exception as e:\n",
        "    print(f\"Error loading the model: {e}\")\n",
        "    raise\n",
        "\n",
        "# Load and prepare the test data\n",
        "test_data_path = '/content/drive/MyDrive/Depression/EDAIC Dataset/testing_labels.csv'  # Update with your test data's path\n",
        "try:\n",
        "    test_data = pd.read_csv(test_data_path)\n",
        "except Exception as e:\n",
        "    print(f\"Error loading the test data: {e}\")\n",
        "    raise\n",
        "\n",
        "# Check if the required columns are present\n",
        "if 'Class' not in test_data.columns or 'name' not in test_data.columns:\n",
        "    raise ValueError(\"Required columns ('Class' and 'name') are not present in the test data.\")\n",
        "\n",
        "X_test = test_data.drop(columns=['Class', 'name']).values\n",
        "y_test = test_data['Class'].values\n",
        "\n",
        "# Use the scaler fitted on the training data\n",
        "# Assuming you have saved the scaler or can recreate it with the same parameters\n",
        "scaler = StandardScaler()  # You should load or recreate the exact scaler used during training\n",
        "X_test_scaled = scaler.fit_transform(X_test)\n",
        "\n",
        "# Reshape the data if your model expects a specific input shape (example for CNN)\n",
        "X_test_scaled = X_test_scaled.reshape((X_test_scaled.shape[0], X_test_scaled.shape[1], 1))\n",
        "\n",
        "# Make predictions on the test data\n",
        "try:\n",
        "    y_pred = (loaded_model.predict(X_test_scaled) > 0.5).astype(int)\n",
        "except Exception as e:\n",
        "    print(f\"Error during model prediction: {e}\")\n",
        "    raise\n",
        "\n",
        "# Calculate and print the classification report and accuracy\n",
        "print(\"CNN Model Classification Report for Testing Set:\")\n",
        "print(classification_report(y_test, y_pred))\n",
        "accuracy_test = accuracy_score(y_test, y_pred)\n",
        "print(f\"\\nAccuracy for CNN Testing Set: {accuracy_test:.4f}\")\n",
        "\n",
        "# Calculate and print the F1 score\n",
        "f1 = f1_score(y_test, y_pred)\n",
        "print(f\"F1 Score for CNN Testing Set: {f1:.4f}\")\n",
        "\n",
        "# Calculate and plot the confusion matrix\n",
        "cm = confusion_matrix(y_test, y_pred)\n",
        "plt.figure(figsize=(8, 6))\n",
        "sns.heatmap(cm, annot=True, fmt='d', cmap='Blues', cbar=False)\n",
        "plt.xlabel('Predicted')\n",
        "plt.ylabel('Actual')\n",
        "plt.title('Confusion Matrix')\n",
        "plt.show()\n"
      ],
      "metadata": {
        "colab": {
          "base_uri": "https://localhost:8080/",
          "height": 832
        },
        "id": "-Y5Qb-elcVg_",
        "outputId": "710384fe-45a3-46e9-f8a4-39d553ad0417"
      },
      "execution_count": 1,
      "outputs": [
        {
          "output_type": "stream",
          "name": "stdout",
          "text": [
            "Model loaded successfully.\n",
            "77/77 [==============================] - 2s 20ms/step\n",
            "CNN Model Classification Report for Testing Set:\n",
            "              precision    recall  f1-score   support\n",
            "\n",
            "           0       0.78      0.95      0.86      1897\n",
            "           1       0.26      0.06      0.10       549\n",
            "\n",
            "    accuracy                           0.75      2446\n",
            "   macro avg       0.52      0.51      0.48      2446\n",
            "weighted avg       0.66      0.75      0.69      2446\n",
            "\n",
            "\n",
            "Accuracy for CNN Testing Set: 0.7522\n",
            "F1 Score for CNN Testing Set: 0.0955\n"
          ]
        },
        {
          "output_type": "display_data",
          "data": {
            "text/plain": [
              "<Figure size 800x600 with 1 Axes>"
            ],
            "image/png": "[encoded data removed]"
          },
          "metadata": {}
        }
      ]
    },
    {
      "cell_type": "markdown",
      "source": [
        "# Testing on Interview Dataset"
      ],
      "metadata": {
        "id": "17KTdLBadBEx"
      }
    },
    {
      "cell_type": "code",
      "source": [
        "import pandas as pd\n",
        "from sklearn.preprocessing import StandardScaler\n",
        "from sklearn.metrics import classification_report, accuracy_score, f1_score, confusion_matrix\n",
        "from tensorflow.keras.models import load_model\n",
        "import seaborn as sns\n",
        "import matplotlib.pyplot as plt\n",
        "\n",
        "# Load the saved model\n",
        "model_save_path = '/content/drive/MyDrive/Depression/Model/latest_CNN.h5'  # Update with your model's path\n",
        "loaded_model = load_model(model_save_path)\n",
        "print(\"Model loaded successfully.\")\n",
        "\n",
        "# Load and prepare the test data\n",
        "test_data_path = '/content/drive/MyDrive/Depression/Android Dataset/Interview_test.csv'  # Update with your test data's path\n",
        "test_data = pd.read_csv(test_data_path)\n",
        "\n",
        "# Assuming your CSV has specific columns to drop (like 'name') and a 'Class' column for labels\n",
        "X_test = test_data.drop(columns=['Class', 'name']).values\n",
        "y_test = test_data['Class'].values\n",
        "\n",
        "# Scale the features\n",
        "scaler = StandardScaler()\n",
        "X_test_scaled = scaler.fit_transform(X_test)\n",
        "\n",
        "# Reshape the data if your model expects a specific input shape (example for CNN)\n",
        "X_test_scaled = X_test_scaled.reshape((X_test_scaled.shape[0], X_test_scaled.shape[1], 1))\n",
        "\n",
        "# Make predictions on the test data\n",
        "y_pred = (loaded_model.predict(X_test_scaled) > 0.5).astype(int)\n",
        "\n",
        "# Calculate and print the classification report and accuracy\n",
        "print(\"CNN Model Classification Report for Testing Set:\")\n",
        "print(classification_report(y_test, y_pred))\n",
        "accuracy_test = accuracy_score(y_test, y_pred)\n",
        "print(f\"\\nAccuracy for CNN Testing Set: {accuracy_test:.4f}\")\n",
        "\n",
        "# Calculate and print the F1 score\n",
        "f1 = f1_score(y_test, y_pred)\n",
        "print(f\"F1 Score for CNN Testing Set: {f1:.4f}\")\n",
        "\n",
        "# Calculate and plot the confusion matrix\n",
        "cm = confusion_matrix(y_test, y_pred)\n",
        "plt.figure(figsize=(8, 6))\n",
        "sns.heatmap(cm, annot=True, fmt='d', cmap='Blues', cbar=False)\n",
        "plt.xlabel('Predicted')\n",
        "plt.ylabel('Actual')\n",
        "plt.title('Confusion Matrix')\n",
        "plt.show()\n"
      ],
      "metadata": {
        "colab": {
          "base_uri": "https://localhost:8080/",
          "height": 832
        },
        "id": "WgxIopCzdBNG",
        "outputId": "ca176fe8-3e9d-466e-f362-38751c58a907"
      },
      "execution_count": 2,
      "outputs": [
        {
          "output_type": "stream",
          "name": "stdout",
          "text": [
            "Model loaded successfully.\n",
            "47/47 [==============================] - 1s 15ms/step\n",
            "CNN Model Classification Report for Testing Set:\n",
            "              precision    recall  f1-score   support\n",
            "\n",
            "           0       0.42      0.94      0.58       624\n",
            "           1       0.62      0.07      0.13       875\n",
            "\n",
            "    accuracy                           0.43      1499\n",
            "   macro avg       0.52      0.51      0.35      1499\n",
            "weighted avg       0.54      0.43      0.31      1499\n",
            "\n",
            "\n",
            "Accuracy for CNN Testing Set: 0.4323\n",
            "F1 Score for CNN Testing Set: 0.1254\n"
          ]
        },
        {
          "output_type": "display_data",
          "data": {
            "text/plain": [
              "<Figure size 800x600 with 1 Axes>"
            ],
            "image/png": "[encoded data removed]"
          },
          "metadata": {}
        }
      ]
    },
    {
      "cell_type": "markdown",
      "source": [
        "# Load and Fine-tune on Interview"
      ],
      "metadata": {
        "id": "Fe3Y4XgAdWNm"
      }
    },
    {
      "cell_type": "code",
      "source": [
        "\n",
        "import pandas as pd\n",
        "from sklearn.model_selection import train_test_split\n",
        "from sklearn.preprocessing import StandardScaler\n",
        "from tensorflow.keras.models import load_model\n",
        "from tensorflow.keras.optimizers import Adam\n",
        "from tensorflow.keras.callbacks import EarlyStopping\n",
        "\n",
        "# Load the training and validation dataset\n",
        "interview_df = pd.read_csv('/content/drive/MyDrive/Depression/Android Dataset/Interview_train.csv')\n",
        "\n",
        "# Prepare the dataset by dropping the 'name' column and separating features and labels\n",
        "X = interview_df.drop(columns=['name', 'Class']).values\n",
        "y = interview_df['Class'].values\n",
        "\n",
        "# Split the dataset into training and validation sets\n",
        "X_train, X_val, y_train, y_val = train_test_split(X, y, test_size=0.2, random_state=42)\n",
        "\n",
        "# Scale the features\n",
        "scaler = StandardScaler()\n",
        "X_train_scaled = scaler.fit_transform(X_train)\n",
        "X_val_scaled = scaler.transform(X_val)\n",
        "\n",
        "# Load the pre-trained model\n",
        "model = load_model('/content/drive/MyDrive/Depression/Model/latest_CNN.h5')\n",
        "\n",
        "# Compile the model with a smaller learning rate\n",
        "model.compile(optimizer=Adam(learning_rate=1e-4), loss='binary_crossentropy', metrics=['accuracy'])\n",
        "\n",
        "# Use early stopping to prevent overfitting\n",
        "early_stopping = EarlyStopping(monitor='val_loss', patience=10, restore_best_weights=True)\n",
        "\n",
        "# Fine-tune the model on the new dataset\n",
        "model.fit(X_train_scaled, y_train, validation_data=(X_val_scaled, y_val), epochs=10, callbacks=[early_stopping])\n",
        "\n",
        "# Save the fine-tuned model\n",
        "model.save('/content/drive/MyDrive/Depression/Model/finetune_on_latest.h5')\n"
      ],
      "metadata": {
        "colab": {
          "base_uri": "https://localhost:8080/"
        },
        "id": "hu-IfvPDdXVf",
        "outputId": "b0032602-b4da-4618-e2e0-7c691699df4f"
      },
      "execution_count": 3,
      "outputs": [
        {
          "output_type": "stream",
          "name": "stdout",
          "text": [
            "Epoch 1/10\n",
            "85/85 [==============================] - 5s 43ms/step - loss: 1.6367 - accuracy: 0.5586 - val_loss: 0.8403 - val_accuracy: 0.5831\n",
            "Epoch 2/10\n",
            "85/85 [==============================] - 5s 60ms/step - loss: 0.7810 - accuracy: 0.5371 - val_loss: 0.6697 - val_accuracy: 0.6202\n",
            "Epoch 3/10\n",
            "85/85 [==============================] - 3s 35ms/step - loss: 0.6681 - accuracy: 0.6054 - val_loss: 0.6167 - val_accuracy: 0.6855\n",
            "Epoch 4/10\n",
            "85/85 [==============================] - 3s 37ms/step - loss: 0.6207 - accuracy: 0.6570 - val_loss: 0.5846 - val_accuracy: 0.7433\n",
            "Epoch 5/10\n",
            "85/85 [==============================] - 4s 50ms/step - loss: 0.6040 - accuracy: 0.6707 - val_loss: 0.5593 - val_accuracy: 0.7730\n",
            "Epoch 6/10\n",
            "85/85 [==============================] - 7s 77ms/step - loss: 0.5596 - accuracy: 0.7112 - val_loss: 0.5295 - val_accuracy: 0.7834\n",
            "Epoch 7/10\n",
            "85/85 [==============================] - 4s 48ms/step - loss: 0.5338 - accuracy: 0.7372 - val_loss: 0.4989 - val_accuracy: 0.7953\n",
            "Epoch 8/10\n",
            "85/85 [==============================] - 3s 36ms/step - loss: 0.5146 - accuracy: 0.7428 - val_loss: 0.4739 - val_accuracy: 0.8279\n",
            "Epoch 9/10\n",
            "85/85 [==============================] - 4s 45ms/step - loss: 0.4901 - accuracy: 0.7632 - val_loss: 0.4455 - val_accuracy: 0.8205\n",
            "Epoch 10/10\n",
            "85/85 [==============================] - 6s 65ms/step - loss: 0.4619 - accuracy: 0.7728 - val_loss: 0.4180 - val_accuracy: 0.8427\n"
          ]
        },
        {
          "output_type": "stream",
          "name": "stderr",
          "text": [
            "/usr/local/lib/python3.10/dist-packages/keras/src/engine/training.py:3103: UserWarning: You are saving your model as an HDF5 file via `model.save()`. This file format is considered legacy. We recommend using instead the native Keras format, e.g. `model.save('my_model.keras')`.\n",
            "  saving_api.save_model(\n"
          ]
        }
      ]
    },
    {
      "cell_type": "markdown",
      "source": [
        "# Test Fine-Tuned Model On Interview"
      ],
      "metadata": {
        "id": "sbAW10vGdXt8"
      }
    },
    {
      "cell_type": "code",
      "source": [
        "import pandas as pd\n",
        "from sklearn.preprocessing import StandardScaler\n",
        "from tensorflow.keras.models import load_model\n",
        "from sklearn.metrics import accuracy_score\n",
        "\n",
        "# Load the test dataset\n",
        "test_df = pd.read_csv('/content/drive/MyDrive/Depression/Android Dataset/Interview_test.csv')\n",
        "\n",
        "# Prepare the test dataset by dropping the 'name' column and separating features and labels\n",
        "X_test = test_df.drop(columns=['name', 'Class']).values\n",
        "y_test = test_df['Class'].values\n",
        "\n",
        "# Scale the features of the test set using the same scaler as used for training\n",
        "scaler = StandardScaler()\n",
        "X_test_scaled = scaler.fit_transform(X_test)\n",
        "\n",
        "# Load the fine-tuned model\n",
        "fine_tuned_model = load_model('/content/drive/MyDrive/Depression/Model/finetune_on_latest.h5')\n",
        "\n",
        "# Make predictions on the test set\n",
        "predictions = fine_tuned_model.predict(X_test_scaled)\n",
        "# Convert probabilities to class labels based on a threshold (0.5 for binary classification)\n",
        "predicted_classes = (predictions > 0.5).astype(int)\n",
        "\n",
        "# Calculate and print the accuracy on the test set\n",
        "test_accuracy = accuracy_score(y_test, predicted_classes)\n",
        "print(f'Test Accuracy: {test_accuracy}')"
      ],
      "metadata": {
        "colab": {
          "base_uri": "https://localhost:8080/"
        },
        "id": "W2miQMTedX3X",
        "outputId": "27055b1b-8a52-4708-a795-c26d71f17baa"
      },
      "execution_count": 4,
      "outputs": [
        {
          "output_type": "stream",
          "name": "stdout",
          "text": [
            "47/47 [==============================] - 1s 15ms/step\n",
            "Test Accuracy: 0.6624416277518346\n"
          ]
        }
      ]
    },
    {
      "cell_type": "markdown",
      "source": [
        "# Test Fine-Tuned Model On EDAIC"
      ],
      "metadata": {
        "id": "MLxS2eqZdrBB"
      }
    },
    {
      "cell_type": "code",
      "source": [
        "import pandas as pd\n",
        "from sklearn.preprocessing import StandardScaler\n",
        "from tensorflow.keras.models import load_model\n",
        "from sklearn.metrics import accuracy_score\n",
        "\n",
        "# Load the test dataset\n",
        "test_df = pd.read_csv('/content/drive/MyDrive/Depression/EDAIC Dataset/testing_labels.csv')\n",
        "\n",
        "# Prepare the test dataset by dropping the 'name' column and separating features and labels\n",
        "X_test = test_df.drop(columns=['name', 'Class']).values\n",
        "y_test = test_df['Class'].values\n",
        "\n",
        "# Scale the features of the test set using the same scaler as used for training\n",
        "scaler = StandardScaler()\n",
        "X_test_scaled = scaler.fit_transform(X_test)\n",
        "\n",
        "# Load the fine-tuned model\n",
        "fine_tuned_model = load_model('/content/drive/MyDrive/Depression/Model/finetune_on_latest.h5')\n",
        "\n",
        "# Make predictions on the test set\n",
        "predictions = fine_tuned_model.predict(X_test_scaled)\n",
        "# Convert probabilities to class labels based on a threshold (0.5 for binary classification)\n",
        "predicted_classes = (predictions > 0.5).astype(int)\n",
        "\n",
        "# Calculate and print the accuracy on the test set\n",
        "test_accuracy = accuracy_score(y_test, predicted_classes)\n",
        "print(f'Test Accuracy on EDAIC Dataset: {test_accuracy}')\n"
      ],
      "metadata": {
        "colab": {
          "base_uri": "https://localhost:8080/"
        },
        "id": "g95qqf7SdrJZ",
        "outputId": "716ad2af-0282-444d-f77e-28ad7c6511c6"
      },
      "execution_count": 6,
      "outputs": [
        {
          "output_type": "stream",
          "name": "stdout",
          "text": [
            "77/77 [==============================] - 1s 12ms/step\n",
            "Test Accuracy on EDAIC Dataset: 0.6578086672117743\n"
          ]
        }
      ]
    },
    {
      "cell_type": "markdown",
      "source": [
        "# L1 L2 EWC"
      ],
      "metadata": {
        "id": "bw313ZUbebKu"
      }
    },
    {
      "cell_type": "code",
      "source": [
        "import tensorflow as tf\n",
        "import pandas as pd\n",
        "from sklearn.preprocessing import StandardScaler\n",
        "from sklearn.metrics import accuracy_score\n",
        "\n",
        "# Load your datasets here\n",
        "interview_df = pd.read_csv('/content/drive/MyDrive/Depression/Android Dataset/Interview_train.csv')\n",
        "edaic_df = pd.read_csv('/content/drive/MyDrive/Depression/EDAIC Dataset/testing_labels.csv')\n",
        "\n",
        "# Define dataset preparation functions\n",
        "def prepare(df):\n",
        "    X = df.drop(columns=['name', 'Class']).values\n",
        "    y = df['Class'].values\n",
        "    scaler = StandardScaler()\n",
        "    X_scaled = scaler.fit_transform(X)\n",
        "    return X_scaled, y\n",
        "\n",
        "# Prepare datasets\n",
        "interview_X, interview_y = prepare(interview_df)\n",
        "edaic_X, edaic_y = prepare(edaic_df)\n",
        "\n",
        "# Define model architectures\n",
        "def define_basic_cl_model():\n",
        "    model = tf.keras.Sequential([\n",
        "        tf.keras.layers.Flatten(input_shape=(interview_X.shape[1],)),\n",
        "        tf.keras.layers.Dense(128, activation='relu'),\n",
        "        tf.keras.layers.Dense(5)\n",
        "    ])\n",
        "    model.compile(optimizer='adam', loss=tf.keras.losses.SparseCategoricalCrossentropy(from_logits=True), metrics='accuracy')\n",
        "    return model\n",
        "\n",
        "# Define training and evaluation functions\n",
        "def train(model, X_train, y_train, X_val, y_val, epochs):\n",
        "    model.fit(X_train, y_train, validation_data=(X_val, y_val), epochs=epochs)\n",
        "    val_acc = evaluate(model, X_val, y_val)\n",
        "    return val_acc\n",
        "\n",
        "def evaluate(model, X_test, y_test):\n",
        "    y_pred_probs = model.predict(X_test)\n",
        "    y_pred = tf.argmax(y_pred_probs, axis=1).numpy()  # Convert probabilities to class labels\n",
        "    return accuracy_score(y_test, y_pred)\n",
        "\n",
        "def train_with_ewc(model, X_train, X_val, y_train, y_val, epochs):\n",
        "    # Train the model on the primary task\n",
        "    model.fit(X_train, y_train, validation_data=(X_val, y_val), epochs=epochs)\n",
        "\n",
        "    # Compute Fisher Information matrix for the primary task\n",
        "    # This should be replaced with your implementation of Fisher Information calculation\n",
        "    F = compute_fisher_information(model, X_train, y_train)\n",
        "\n",
        "    # Now you can perform the EWC training loop using the computed Fisher Information matrix\n",
        "    # You need to define this part according to the specific implementation of EWC\n",
        "\n",
        "    # After training, return the validation accuracy\n",
        "    ewc_val_acc = evaluate(model, X_val, y_val)\n",
        "    return ewc_val_acc\n",
        "\n",
        "# Define a function to compute Fisher Information matrix\n",
        "# You need to implement this function according to your specific task and model architecture\n",
        "def compute_fisher_information(model, X_train, y_train):\n",
        "    # Placeholder implementation\n",
        "    # Replace this with your actual implementation\n",
        "    return None\n",
        "\n",
        "# L1 regularization training\n",
        "l1_model = define_basic_cl_model()\n",
        "l1_model.add(tf.keras.layers.ActivityRegularization(l1=0.01))\n",
        "l1_val_acc = train(l1_model, interview_X, interview_y, edaic_X, edaic_y, epochs=6)\n",
        "print(\" Accuracy after L1 Regularization:\", l1_val_acc)\n",
        "\n",
        "# L2 regularization training\n",
        "l2_model = define_basic_cl_model()\n",
        "l2_model.add(tf.keras.layers.ActivityRegularization(l2=0.01))\n",
        "l2_val_acc = train(l2_model, interview_X, interview_y, edaic_X, edaic_y, epochs=6)\n",
        "print(\" Accuracy after L2 Regularization:\", l2_val_acc)\n",
        "\n",
        "# Elastic Weight Consolidation (EWC) training\n",
        "ewc_model = define_basic_cl_model()  # Using the same model architecture for simplicity\n",
        "ewc_val_acc = train_with_ewc(ewc_model, interview_X, edaic_X, interview_y, edaic_y, epochs=6)\n",
        "print(\" Accuracy after EWC Training:\", ewc_val_acc)\n"
      ],
      "metadata": {
        "colab": {
          "base_uri": "https://localhost:8080/"
        },
        "id": "VPNSiOjvebTT",
        "outputId": "3388165c-c7d5-4243-c24c-4fccebb9b943"
      },
      "execution_count": 9,
      "outputs": [
        {
          "output_type": "stream",
          "name": "stdout",
          "text": [
            "Epoch 1/6\n",
            "106/106 [==============================] - 2s 14ms/step - loss: 0.4619 - accuracy: 0.8717 - val_loss: 1.0627 - val_accuracy: 0.6635\n",
            "Epoch 2/6\n",
            "106/106 [==============================] - 0s 4ms/step - loss: 0.1865 - accuracy: 0.9795 - val_loss: 1.1227 - val_accuracy: 0.6660\n",
            "Epoch 3/6\n",
            "106/106 [==============================] - 0s 4ms/step - loss: 0.1374 - accuracy: 0.9944 - val_loss: 1.1116 - val_accuracy: 0.6639\n",
            "Epoch 4/6\n",
            "106/106 [==============================] - 0s 4ms/step - loss: 0.1161 - accuracy: 0.9979 - val_loss: 1.2476 - val_accuracy: 0.6623\n",
            "Epoch 5/6\n",
            "106/106 [==============================] - 0s 4ms/step - loss: 0.1050 - accuracy: 0.9994 - val_loss: 1.2141 - val_accuracy: 0.6586\n",
            "Epoch 6/6\n",
            "106/106 [==============================] - 0s 4ms/step - loss: 0.1060 - accuracy: 0.9973 - val_loss: 1.1613 - val_accuracy: 0.6684\n",
            "77/77 [==============================] - 0s 2ms/step\n",
            "Validation Accuracy after L1 Regularization: 0.6684382665576452\n",
            "Epoch 1/6\n",
            "106/106 [==============================] - 1s 6ms/step - loss: 0.5981 - accuracy: 0.8515 - val_loss: 1.0798 - val_accuracy: 0.6169\n",
            "Epoch 2/6\n",
            "106/106 [==============================] - 0s 4ms/step - loss: 0.3105 - accuracy: 0.9798 - val_loss: 1.0335 - val_accuracy: 0.6496\n",
            "Epoch 3/6\n",
            "106/106 [==============================] - 0s 4ms/step - loss: 0.2715 - accuracy: 0.9938 - val_loss: 1.0527 - val_accuracy: 0.6398\n",
            "Epoch 4/6\n",
            "106/106 [==============================] - 0s 4ms/step - loss: 0.2489 - accuracy: 0.9988 - val_loss: 1.0254 - val_accuracy: 0.6521\n",
            "Epoch 5/6\n",
            "106/106 [==============================] - 0s 4ms/step - loss: 0.2375 - accuracy: 0.9994 - val_loss: 1.0848 - val_accuracy: 0.6267\n",
            "Epoch 6/6\n",
            "106/106 [==============================] - 0s 4ms/step - loss: 0.2299 - accuracy: 1.0000 - val_loss: 1.0890 - val_accuracy: 0.6214\n",
            "77/77 [==============================] - 0s 2ms/step\n",
            "Validation Accuracy after L2 Regularization: 0.6214227309893704\n",
            "Epoch 1/6\n",
            "106/106 [==============================] - 2s 10ms/step - loss: 0.3131 - accuracy: 0.8895 - val_loss: 0.9182 - val_accuracy: 0.6742\n",
            "Epoch 2/6\n",
            "106/106 [==============================] - 1s 8ms/step - loss: 0.0678 - accuracy: 0.9807 - val_loss: 0.9942 - val_accuracy: 0.6709\n",
            "Epoch 3/6\n",
            "106/106 [==============================] - 1s 7ms/step - loss: 0.0334 - accuracy: 0.9938 - val_loss: 1.2119 - val_accuracy: 0.6504\n",
            "Epoch 4/6\n",
            "106/106 [==============================] - 1s 8ms/step - loss: 0.0201 - accuracy: 0.9976 - val_loss: 1.2800 - val_accuracy: 0.6464\n",
            "Epoch 5/6\n",
            "106/106 [==============================] - 1s 6ms/step - loss: 0.0159 - accuracy: 0.9967 - val_loss: 1.3884 - val_accuracy: 0.6500\n",
            "Epoch 6/6\n",
            "106/106 [==============================] - 0s 4ms/step - loss: 0.0062 - accuracy: 1.0000 - val_loss: 1.4182 - val_accuracy: 0.6549\n",
            "77/77 [==============================] - 0s 1ms/step\n",
            "Validation Accuracy after EWC Training: 0.6549468520032706\n"
          ]
        }
      ]
    },
    {
      "cell_type": "markdown",
      "source": [],
      "metadata": {
        "id": "ay7zljkEebeQ"
      }
    },
    {
      "cell_type": "code",
      "source": [],
      "metadata": {
        "id": "K3TSwwo_ebm2"
      },
      "execution_count": null,
      "outputs": []
    }
  ]
}