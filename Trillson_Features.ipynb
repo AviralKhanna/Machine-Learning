{
  "cells": [
    {
      "cell_type": "code",
      "execution_count": null,
      "metadata": {
        "colab": {
          "base_uri": "https://localhost:8080/"
        },
        "id": "q5RIUeUA8W-A",
        "outputId": "284cfb49-4eae-409c-d361-dd83a074e098"
      },
      "outputs": [
        {
          "output_type": "stream",
          "name": "stdout",
          "text": [
            "Mounted at /content/drive\n"
          ]
        }
      ],
      "source": [
        "from google.colab import drive\n",
        "drive.mount('/content/drive')"
      ]
    },
    {
      "cell_type": "markdown",
      "metadata": {
        "id": "XZE5ys0MV00d"
      },
      "source": [
        "# ***LIBRARIES***"
      ]
    },
    {
      "cell_type": "code",
      "execution_count": null,
      "metadata": {
        "id": "kmmpyIDmV21u"
      },
      "outputs": [],
      "source": [
        "import os\n",
        "import numpy as np\n",
        "import tensorflow as tf\n",
        "import tensorflow_hub as hub\n",
        "import torchaudio\n",
        "import pandas as pd\n",
        "from tensorflow import keras\n",
        "from tensorflow.keras import layers"
      ]
    },
    {
      "cell_type": "code",
      "execution_count": null,
      "metadata": {
        "colab": {
          "base_uri": "https://localhost:8080/"
        },
        "id": "gZ5krGSEWOCO",
        "outputId": "cd523193-e8f7-48f5-8c37-d09eb0f68ae4"
      },
      "outputs": [
        {
          "output_type": "stream",
          "name": "stdout",
          "text": [
            "Requirement already satisfied: tensorflow_hub in /usr/local/lib/python3.10/dist-packages (0.15.0)\n",
            "Requirement already satisfied: torchaudio in /usr/local/lib/python3.10/dist-packages (2.1.0+cu121)\n",
            "Requirement already satisfied: pandas in /usr/local/lib/python3.10/dist-packages (1.5.3)\n",
            "Requirement already satisfied: numpy>=1.12.0 in /usr/local/lib/python3.10/dist-packages (from tensorflow_hub) (1.23.5)\n",
            "Requirement already satisfied: protobuf>=3.19.6 in /usr/local/lib/python3.10/dist-packages (from tensorflow_hub) (3.20.3)\n",
            "Requirement already satisfied: torch==2.1.0 in /usr/local/lib/python3.10/dist-packages (from torchaudio) (2.1.0+cu121)\n",
            "Requirement already satisfied: filelock in /usr/local/lib/python3.10/dist-packages (from torch==2.1.0->torchaudio) (3.13.1)\n",
            "Requirement already satisfied: typing-extensions in /usr/local/lib/python3.10/dist-packages (from torch==2.1.0->torchaudio) (4.5.0)\n",
            "Requirement already satisfied: sympy in /usr/local/lib/python3.10/dist-packages (from torch==2.1.0->torchaudio) (1.12)\n",
            "Requirement already satisfied: networkx in /usr/local/lib/python3.10/dist-packages (from torch==2.1.0->torchaudio) (3.2.1)\n",
            "Requirement already satisfied: jinja2 in /usr/local/lib/python3.10/dist-packages (from torch==2.1.0->torchaudio) (3.1.2)\n",
            "Requirement already satisfied: fsspec in /usr/local/lib/python3.10/dist-packages (from torch==2.1.0->torchaudio) (2023.6.0)\n",
            "Requirement already satisfied: triton==2.1.0 in /usr/local/lib/python3.10/dist-packages (from torch==2.1.0->torchaudio) (2.1.0)\n",
            "Requirement already satisfied: python-dateutil>=2.8.1 in /usr/local/lib/python3.10/dist-packages (from pandas) (2.8.2)\n",
            "Requirement already satisfied: pytz>=2020.1 in /usr/local/lib/python3.10/dist-packages (from pandas) (2023.3.post1)\n",
            "Requirement already satisfied: six>=1.5 in /usr/local/lib/python3.10/dist-packages (from python-dateutil>=2.8.1->pandas) (1.16.0)\n",
            "Requirement already satisfied: MarkupSafe>=2.0 in /usr/local/lib/python3.10/dist-packages (from jinja2->torch==2.1.0->torchaudio) (2.1.3)\n",
            "Requirement already satisfied: mpmath>=0.19 in /usr/local/lib/python3.10/dist-packages (from sympy->torch==2.1.0->torchaudio) (1.3.0)\n"
          ]
        }
      ],
      "source": [
        "!pip install tensorflow_hub torchaudio pandas"
      ]
    },
    {
      "cell_type": "code",
      "execution_count": null,
      "metadata": {
        "colab": {
          "base_uri": "https://localhost:8080/"
        },
        "id": "j4JbKcGEWRba",
        "outputId": "4b123662-8105-402c-bff9-c1ee7b2b2608"
      },
      "outputs": [
        {
          "output_type": "stream",
          "name": "stdout",
          "text": [
            "Requirement already satisfied: tensorflow_hub in /usr/local/lib/python3.10/dist-packages (0.15.0)\n",
            "Requirement already satisfied: numpy>=1.12.0 in /usr/local/lib/python3.10/dist-packages (from tensorflow_hub) (1.23.5)\n",
            "Requirement already satisfied: protobuf>=3.19.6 in /usr/local/lib/python3.10/dist-packages (from tensorflow_hub) (3.20.3)\n"
          ]
        }
      ],
      "source": [
        "!pip install tensorflow_hub"
      ]
    },
    {
      "cell_type": "markdown",
      "metadata": {
        "id": "QQykVmiPVKrS"
      },
      "source": [
        "# **TIRLLSON**"
      ]
    },
    {
      "cell_type": "markdown",
      "metadata": {
        "id": "YwcCHTMeaW1z"
      },
      "source": [
        "Logic"
      ]
    },
    {
      "cell_type": "code",
      "execution_count": null,
      "metadata": {
        "id": "10mRUnDeFwYw"
      },
      "outputs": [],
      "source": [
        "# #Trillson Reference: https://tfhub.dev/google/nonsemantic-speech-benchmark/trillsson4/1\n",
        "m = hub.KerasLayer('https://tfhub.dev/google/trillsson4/1')\n",
        "def extract_features(path):\n",
        "    sample_rate = 16000\n",
        "    array, fs = torchaudio.load(path)\n",
        "    array = np.array(array)\n",
        "    # NOTE: Audio should be floats in [-1, 1], sampled at 16kHz. Model input is of\n",
        "    # the shape [batch size, time].\n",
        "    embeddings = m(array)['embedding']\n",
        "    # Models internally aggregate over time. For a time-series of embeddings, the\n",
        "    # user can frame audio however they want.\n",
        "    embeddings.shape.assert_is_compatible_with([None, 1024])\n",
        "    embeddings = np.squeeze(np.array(embeddings), axis = 0)\n",
        "    return embeddings"
      ]
    },
    {
      "cell_type": "markdown",
      "metadata": {
        "id": "j5bAWAzVaaIH"
      },
      "source": [
        "CSV"
      ]
    },
    {
      "cell_type": "code",
      "execution_count": null,
      "metadata": {
        "colab": {
          "base_uri": "https://localhost:8080/"
        },
        "id": "yzfNE3jPIWYp",
        "outputId": "f4d1b495-8109-4651-980c-8df350dfaaf4"
      },
      "outputs": [
        {
          "name": "stdout",
          "output_type": "stream",
          "text": [
            "Features saved to file.csv\n"
          ]
        }
      ],
      "source": [
        "# Load the Trillson model from TensorFlow Hub\n",
        "m = hub.KerasLayer('https://tfhub.dev/google/trillsson4/1')\n",
        "\n",
        "# Function to extract features from an audio file\n",
        "def extract_features(path):\n",
        "    sample_rate = 16000\n",
        "    array, fs = torchaudio.load(path)\n",
        "    array = np.array(array)\n",
        "    # NOTE: Audio should be floats in [-1, 1], sampled at 16kHz. Model input is of\n",
        "    # the shape [batch size, time].\n",
        "    embeddings = m(array)['embedding']\n",
        "    # Models internally aggregate over time. For a time-series of embeddings, the\n",
        "    # user can frame audio however they want.\n",
        "    embeddings.shape.assert_is_compatible_with([None, 1024])\n",
        "    embeddings = np.squeeze(np.array(embeddings), axis=0)\n",
        "    return embeddings\n",
        "\n",
        "# Function to save features to a CSV file\n",
        "def save_to_csv(features, output_file):\n",
        "    df = pd.DataFrame(features)\n",
        "    df.to_csv(output_file, index=False)\n",
        "    print(f\"Features saved to {output_file}\")\n",
        "\n",
        "# Example usage\n",
        "input_audio_file = '/content/drive/MyDrive/Autistic/Combined/Abnormal/A001.wav'\n",
        "output_csv_file = 'file.csv'\n",
        "\n",
        "# Extract features from the audio file\n",
        "features = extract_features(input_audio_file)\n",
        "\n",
        "# Save features to a CSV file\n",
        "save_to_csv(features, output_csv_file)\n"
      ]
    },
    {
      "cell_type": "markdown",
      "metadata": {
        "id": "lM6s-lGXafWF"
      },
      "source": [
        "ALL features"
      ]
    },
    {
      "cell_type": "code",
      "execution_count": null,
      "metadata": {
        "colab": {
          "base_uri": "https://localhost:8080/"
        },
        "id": "-fiBCd_rIhSy",
        "outputId": "1aa123eb-d531-4e49-c641-65c964de147b"
      },
      "outputs": [
        {
          "name": "stdout",
          "output_type": "stream",
          "text": [
            "Features saved to extracted_features.csv\n"
          ]
        }
      ],
      "source": [
        "# Load the Trill model from TensorFlow Hub\n",
        "model = hub.load('https://tfhub.dev/google/nonsemantic-speech-benchmark/trill/3')\n",
        "\n",
        "def extract_features(audio_path):\n",
        "    # Load the audio file\n",
        "    audio, sr = librosa.load(audio_path, sr=None)\n",
        "\n",
        "    # Resample the audio to 16kHz\n",
        "    if sr != 16000:\n",
        "        audio = librosa.resample(audio, orig_sr=sr, target_sr=16000)\n",
        "        sr = 16000\n",
        "\n",
        "    # Convert the audio waveform to the format expected by the model\n",
        "    audio = audio[np.newaxis, :]\n",
        "    audio = tf.convert_to_tensor(audio, dtype=tf.float32)\n",
        "\n",
        "    # Extract features\n",
        "    embeddings = model(samples=audio, sample_rate=sr)\n",
        "\n",
        "    # Handle the dictionary output\n",
        "    # Replace 'embedding' with the correct key if different\n",
        "    embedding_key = 'embedding' if 'embedding' in embeddings else list(embeddings.keys())[0]\n",
        "    return embeddings[embedding_key].numpy()\n",
        "\n",
        "# Example usage\n",
        "audio_path = '/content/drive/MyDrive/Autistic/Combined/Abnormal/A001.wav'  # Replace with your audio file path\n",
        "features = extract_features(audio_path)\n",
        "\n",
        "# Save the features to a CSV file\n",
        "csv_file = 'extracted_features.csv'  # Output CSV file name\n",
        "\n",
        "# Flatten the features array for CSV writing\n",
        "flattened_features = features.flatten()\n",
        "\n",
        "with open(csv_file, mode='w', newline='') as file:\n",
        "    writer = csv.writer(file)\n",
        "    writer.writerow(flattened_features)\n",
        "\n",
        "print(f\"Features saved to {csv_file}\")\n"
      ]
    },
    {
      "cell_type": "markdown",
      "metadata": {
        "id": "BjRQQ5Q1aS9l"
      },
      "source": [
        "FOlder"
      ]
    },
    {
      "cell_type": "code",
      "execution_count": null,
      "metadata": {
        "id": "NF_P7CzPVUNN"
      },
      "outputs": [],
      "source": [
        "m = hub.KerasLayer('https://tfhub.dev/google/trillsson4/1')\n",
        "\n",
        "# Function to extract features from an audio file\n",
        "def extract_features(path):\n",
        "    sample_rate = 16000\n",
        "    array, fs = torchaudio.load(path)\n",
        "    array = np.array(array)\n",
        "    # NOTE: Audio should be floats in [-1, 1], sampled at 16kHz. Model input is of\n",
        "    # the shape [batch size, time].\n",
        "    embeddings = m(array)['embedding']\n",
        "    # Models internally aggregate over time. For a time-series of embeddings, the\n",
        "    # user can frame audio however they want.\n",
        "    embemddings.shape.assert_is_compatible_with([None, 1024])\n",
        "    embeddings = np.squeeze(np.array(embeddings), axis=0)\n",
        "    return embeddings\n",
        "\n",
        "# Function to save features to a CSV file\n",
        "def save_to_csv(features, file_names, output_file):\n",
        "    df = pd.DataFrame(features, columns=[f'feature_{i}' for i in range(features.shape[1])])\n",
        "    df['file_name'] = file_names\n",
        "    df.to_csv(output_file, index=False)\n",
        "    print(f\"Features saved to {output_file}\")\n",
        "\n",
        "# Function to process all audio files in a folder\n",
        "def process_folder(input_folder, output_csv_file):\n",
        "    features_list = []\n",
        "    file_names = []\n",
        "\n",
        "    for filename in os.listdir(input_folder):\n",
        "        if filename.endswith(\".wav\"):\n",
        "            file_path = os.path.join(input_folder, filename)\n",
        "            features = extract_features(file_path)\n",
        "            features_list.append(features)\n",
        "            file_names.append(filename)\n",
        "\n",
        "    features_array = np.vstack(features_list)\n",
        "    save_to_csv(features_array, file_names, output_csv_file)\n",
        "\n",
        "# Example usage\n",
        "input_audio_folder = '/content/drive/MyDrive/Autistic/Combined/Abnormal'\n",
        "output_csv_file = 'Abnormal.csv'\n",
        "\n",
        "# Process all audio files in the folder and save features to a CSV file\n",
        "process_folder(input_audio_folder, output_csv_file)\n"
      ]
    },
    {
      "cell_type": "code",
      "execution_count": null,
      "metadata": {
        "id": "SYO3X9ganPwn"
      },
      "outputs": [],
      "source": [
        "#   seprate csv"
      ]
    },
    {
      "cell_type": "code",
      "execution_count": null,
      "metadata": {
        "id": "Ag8JPaAxnOaN"
      },
      "outputs": [],
      "source": [
        "# Load the Trillson model from TensorFlow Hub\n",
        "m = hub.KerasLayer('https://tfhub.dev/google/trillsson4/1')\n",
        "\n",
        "# Function to extract features from an audio file\n",
        "def extract_features(path):\n",
        "    sample_rate = 16000\n",
        "    array, fs = torchaudio.load(path)\n",
        "\n",
        "    # Check if the sampling rate is not 16 kHz\n",
        "    if fs != sample_rate:\n",
        "        # Resample audio to 16 kHz\n",
        "        resampler = torchaudio.transforms.Resample(fs, sample_rate)\n",
        "        array = resampler(array)\n",
        "        print(f\"Resampled audio to {sample_rate} Hz\")\n",
        "\n",
        "    array = np.array(array)\n",
        "\n",
        "    # Ensure the waveform has only one channel (mono)\n",
        "    if array.shape[0] > 1:\n",
        "        array = array.mean(dim=0, keepdim=True)\n",
        "\n",
        "    embeddings = m(array)['embedding']\n",
        "    embeddings.shape.assert_is_compatible_with([None, 1024])\n",
        "\n",
        "    # Squeeze dimensions appropriately\n",
        "    embeddings = np.squeeze(np.array(embeddings), axis=0)\n",
        "\n",
        "    return embeddings\n",
        "\n",
        "# Function to save features to a CSV file\n",
        "def save_to_csv(features, output_file):\n",
        "    df = pd.DataFrame(features)\n",
        "    df.to_csv(output_file, index=False)\n",
        "    print(f\"Features saved to {output_file}\")\n",
        "\n",
        "# Function to process a folder of audio files\n",
        "def process_folder(input_folder, output_folder):\n",
        "    os.makedirs(output_folder, exist_ok=True)\n",
        "\n",
        "    for filename in os.listdir(input_folder):\n",
        "        if filename.endswith('.wav'):\n",
        "            input_audio_file = os.path.join(input_folder, filename)\n",
        "            output_csv_file = os.path.join(output_folder, f\"{os.path.splitext(filename)[0]}.csv\")\n",
        "\n",
        "            # Check if the CSV file already exists for the current audio file\n",
        "            if not os.path.exists(output_csv_file):\n",
        "                features = extract_features(input_audio_file)\n",
        "                save_to_csv(features, output_csv_file)\n",
        "            else:\n",
        "                print(f\"Features already exist for {input_audio_file}. Skipping.\")\n",
        "\n",
        "# Example usage\n",
        "input_folder = '/content/drive/MyDrive/Autistic/Combined/Abnormal'\n",
        "output_folder = '/content/drive/MyDrive/Autistic/Combined/Features_trillson/Abnormal'\n",
        "\n",
        "process_folder(input_folder, output_folder)\n"
      ]
    },
    {
      "cell_type": "markdown",
      "source": [
        "WITHOUT RESAMPLING"
      ],
      "metadata": {
        "id": "_i8vRgzWB54V"
      }
    },
    {
      "cell_type": "code",
      "source": [
        "import os\n",
        "import numpy as np\n",
        "import pandas as pd\n",
        "import torchaudio\n",
        "import tensorflow as tf\n",
        "import tensorflow_hub as hub\n",
        "\n",
        "# Load the Trillson model from TensorFlow Hub\n",
        "m = hub.KerasLayer('https://tfhub.dev/google/trillsson4/1')\n",
        "\n",
        "# Function to extract features from an audio file\n",
        "def extract_features(path):\n",
        "    sample_rate = 16000\n",
        "    array, fs = torchaudio.load(path)\n",
        "\n",
        "    array = np.array(array)\n",
        "\n",
        "    # Ensure the waveform has only one channel (mono)\n",
        "    if array.shape[0] > 1:\n",
        "        array = array.mean(dim=0, keepdim=True)\n",
        "\n",
        "    embeddings = m(array)['embedding']\n",
        "    embeddings.shape.assert_is_compatible_with([None, 1024])\n",
        "\n",
        "    # Squeeze dimensions appropriately\n",
        "    embeddings = np.squeeze(np.array(embeddings), axis=0)\n",
        "\n",
        "    return embeddings\n",
        "\n",
        "# Function to save features to a CSV file\n",
        "def save_to_csv(features, output_file):\n",
        "    df = pd.DataFrame(features)\n",
        "    df.to_csv(output_file, index=False)\n",
        "    print(f\"Features saved to {output_file}\")\n",
        "\n",
        "# Function to process a folder of audio files\n",
        "def process_folder(input_folder, output_folder):\n",
        "    os.makedirs(output_folder, exist_ok=True)\n",
        "\n",
        "    for filename in os.listdir(input_folder):\n",
        "        if filename.endswith('.wav'):\n",
        "            input_audio_file = os.path.join(input_folder, filename)\n",
        "            output_csv_file = os.path.join(output_folder, f\"{os.path.splitext(filename)[0]}.csv\")\n",
        "\n",
        "            # Check if the CSV file already exists for the current audio file\n",
        "            if not os.path.exists(output_csv_file):\n",
        "                features = extract_features(input_audio_file)\n",
        "                save_to_csv(features, output_csv_file)\n",
        "            else:\n",
        "                print(f\"Features already exist for {input_audio_file}. Skipping.\")\n",
        "\n",
        "# Example usage\n",
        "input_folder = '/content/drive/MyDrive/Autistic/Combined/Abnormal'\n",
        "output_folder = '/content/drive/MyDrive/Autistic/Combined/Features_trillson/Abnormal'\n",
        "\n",
        "\n",
        "process_folder(input_folder, output_folder)"
      ],
      "metadata": {
        "colab": {
          "base_uri": "https://localhost:8080/"
        },
        "id": "7tecnW37Brax",
        "outputId": "d3f9550f-a7c2-49ab-851a-e85b90e3f903"
      },
      "execution_count": null,
      "outputs": [
        {
          "output_type": "stream",
          "name": "stdout",
          "text": [
            "Features already exist for /content/drive/MyDrive/Autistic/Combined/Abnormal/A068.wav. Skipping.\n",
            "Features already exist for /content/drive/MyDrive/Autistic/Combined/Abnormal/A067.wav. Skipping.\n",
            "Features already exist for /content/drive/MyDrive/Autistic/Combined/Abnormal/A010.wav. Skipping.\n",
            "Features already exist for /content/drive/MyDrive/Autistic/Combined/Abnormal/A016.wav. Skipping.\n",
            "Features already exist for /content/drive/MyDrive/Autistic/Combined/Abnormal/A015.wav. Skipping.\n",
            "Features already exist for /content/drive/MyDrive/Autistic/Combined/Abnormal/A014.wav. Skipping.\n",
            "Features already exist for /content/drive/MyDrive/Autistic/Combined/Abnormal/A013.wav. Skipping.\n",
            "Features already exist for /content/drive/MyDrive/Autistic/Combined/Abnormal/A012.wav. Skipping.\n",
            "Features already exist for /content/drive/MyDrive/Autistic/Combined/Abnormal/A017.wav. Skipping.\n",
            "Features already exist for /content/drive/MyDrive/Autistic/Combined/Abnormal/A011.wav. Skipping.\n",
            "Features already exist for /content/drive/MyDrive/Autistic/Combined/Abnormal/A023.wav. Skipping.\n",
            "Features already exist for /content/drive/MyDrive/Autistic/Combined/Abnormal/A022.wav. Skipping.\n",
            "Features already exist for /content/drive/MyDrive/Autistic/Combined/Abnormal/A025.wav. Skipping.\n",
            "Features already exist for /content/drive/MyDrive/Autistic/Combined/Abnormal/A024.wav. Skipping.\n",
            "Features already exist for /content/drive/MyDrive/Autistic/Combined/Abnormal/A053.wav. Skipping.\n",
            "Features already exist for /content/drive/MyDrive/Autistic/Combined/Abnormal/A060.wav. Skipping.\n",
            "Features already exist for /content/drive/MyDrive/Autistic/Combined/Abnormal/A057.wav. Skipping.\n",
            "Features already exist for /content/drive/MyDrive/Autistic/Combined/Abnormal/A055.wav. Skipping.\n",
            "Features already exist for /content/drive/MyDrive/Autistic/Combined/Abnormal/A056.wav. Skipping.\n",
            "Features already exist for /content/drive/MyDrive/Autistic/Combined/Abnormal/A054.wav. Skipping.\n",
            "Features already exist for /content/drive/MyDrive/Autistic/Combined/Abnormal/A058.wav. Skipping.\n",
            "Features already exist for /content/drive/MyDrive/Autistic/Combined/Abnormal/A059.wav. Skipping.\n",
            "Features already exist for /content/drive/MyDrive/Autistic/Combined/Abnormal/A063.wav. Skipping.\n",
            "Features already exist for /content/drive/MyDrive/Autistic/Combined/Abnormal/A064.wav. Skipping.\n",
            "Features already exist for /content/drive/MyDrive/Autistic/Combined/Abnormal/A066.wav. Skipping.\n",
            "Features already exist for /content/drive/MyDrive/Autistic/Combined/Abnormal/A065.wav. Skipping.\n",
            "Features already exist for /content/drive/MyDrive/Autistic/Combined/Abnormal/A087.wav. Skipping.\n",
            "Features already exist for /content/drive/MyDrive/Autistic/Combined/Abnormal/A086.wav. Skipping.\n",
            "Features already exist for /content/drive/MyDrive/Autistic/Combined/Abnormal/A085.wav. Skipping.\n",
            "Features already exist for /content/drive/MyDrive/Autistic/Combined/Abnormal/A084.wav. Skipping.\n",
            "Features already exist for /content/drive/MyDrive/Autistic/Combined/Abnormal/A088.wav. Skipping.\n",
            "Features already exist for /content/drive/MyDrive/Autistic/Combined/Abnormal/A090.wav. Skipping.\n",
            "Features already exist for /content/drive/MyDrive/Autistic/Combined/Abnormal/A091.wav. Skipping.\n",
            "Features already exist for /content/drive/MyDrive/Autistic/Combined/Abnormal/A094.wav. Skipping.\n",
            "Features already exist for /content/drive/MyDrive/Autistic/Combined/Abnormal/A093.wav. Skipping.\n",
            "Features already exist for /content/drive/MyDrive/Autistic/Combined/Abnormal/A092.wav. Skipping.\n",
            "Features already exist for /content/drive/MyDrive/Autistic/Combined/Abnormal/A089.wav. Skipping.\n",
            "Features already exist for /content/drive/MyDrive/Autistic/Combined/Abnormal/A099.wav. Skipping.\n",
            "Features already exist for /content/drive/MyDrive/Autistic/Combined/Abnormal/A098.wav. Skipping.\n",
            "Features already exist for /content/drive/MyDrive/Autistic/Combined/Abnormal/A095.wav. Skipping.\n",
            "Features already exist for /content/drive/MyDrive/Autistic/Combined/Abnormal/A097.wav. Skipping.\n",
            "Features already exist for /content/drive/MyDrive/Autistic/Combined/Abnormal/A096.wav. Skipping.\n",
            "Features already exist for /content/drive/MyDrive/Autistic/Combined/Abnormal/A100.wav. Skipping.\n",
            "Features already exist for /content/drive/MyDrive/Autistic/Combined/Abnormal/A101.wav. Skipping.\n",
            "Features already exist for /content/drive/MyDrive/Autistic/Combined/Abnormal/A105.wav. Skipping.\n",
            "Features already exist for /content/drive/MyDrive/Autistic/Combined/Abnormal/A103.wav. Skipping.\n",
            "Features already exist for /content/drive/MyDrive/Autistic/Combined/Abnormal/A102.wav. Skipping.\n",
            "Features already exist for /content/drive/MyDrive/Autistic/Combined/Abnormal/A104.wav. Skipping.\n",
            "Features already exist for /content/drive/MyDrive/Autistic/Combined/Abnormal/A106.wav. Skipping.\n",
            "Features already exist for /content/drive/MyDrive/Autistic/Combined/Abnormal/A112.wav. Skipping.\n",
            "Features already exist for /content/drive/MyDrive/Autistic/Combined/Abnormal/A107.wav. Skipping.\n",
            "Features already exist for /content/drive/MyDrive/Autistic/Combined/Abnormal/A111.wav. Skipping.\n",
            "Features already exist for /content/drive/MyDrive/Autistic/Combined/Abnormal/A110.wav. Skipping.\n",
            "Features already exist for /content/drive/MyDrive/Autistic/Combined/Abnormal/A108.wav. Skipping.\n",
            "Features already exist for /content/drive/MyDrive/Autistic/Combined/Abnormal/A109.wav. Skipping.\n",
            "Features already exist for /content/drive/MyDrive/Autistic/Combined/Abnormal/A117.wav. Skipping.\n",
            "Features already exist for /content/drive/MyDrive/Autistic/Combined/Abnormal/A116.wav. Skipping.\n",
            "Features already exist for /content/drive/MyDrive/Autistic/Combined/Abnormal/A115.wav. Skipping.\n",
            "Features already exist for /content/drive/MyDrive/Autistic/Combined/Abnormal/A119.wav. Skipping.\n",
            "Features already exist for /content/drive/MyDrive/Autistic/Combined/Abnormal/A118.wav. Skipping.\n",
            "Features already exist for /content/drive/MyDrive/Autistic/Combined/Abnormal/A113.wav. Skipping.\n",
            "Features already exist for /content/drive/MyDrive/Autistic/Combined/Abnormal/A114.wav. Skipping.\n",
            "Features already exist for /content/drive/MyDrive/Autistic/Combined/Abnormal/A124.wav. Skipping.\n",
            "Features already exist for /content/drive/MyDrive/Autistic/Combined/Abnormal/A123.wav. Skipping.\n",
            "Features already exist for /content/drive/MyDrive/Autistic/Combined/Abnormal/A122.wav. Skipping.\n",
            "Features already exist for /content/drive/MyDrive/Autistic/Combined/Abnormal/A125.wav. Skipping.\n",
            "Features already exist for /content/drive/MyDrive/Autistic/Combined/Abnormal/A120.wav. Skipping.\n",
            "Features already exist for /content/drive/MyDrive/Autistic/Combined/Abnormal/A121.wav. Skipping.\n",
            "Features already exist for /content/drive/MyDrive/Autistic/Combined/Abnormal/A127.wav. Skipping.\n",
            "Features already exist for /content/drive/MyDrive/Autistic/Combined/Abnormal/A128.wav. Skipping.\n",
            "Features already exist for /content/drive/MyDrive/Autistic/Combined/Abnormal/A126.wav. Skipping.\n",
            "Features already exist for /content/drive/MyDrive/Autistic/Combined/Abnormal/A129.wav. Skipping.\n",
            "Features already exist for /content/drive/MyDrive/Autistic/Combined/Abnormal/A131.wav. Skipping.\n",
            "Features already exist for /content/drive/MyDrive/Autistic/Combined/Abnormal/A133.wav. Skipping.\n",
            "Features already exist for /content/drive/MyDrive/Autistic/Combined/Abnormal/A132.wav. Skipping.\n",
            "Features already exist for /content/drive/MyDrive/Autistic/Combined/Abnormal/A130.wav. Skipping.\n",
            "Features already exist for /content/drive/MyDrive/Autistic/Combined/Abnormal/A134.wav. Skipping.\n",
            "Features already exist for /content/drive/MyDrive/Autistic/Combined/Abnormal/A135.wav. Skipping.\n",
            "Features already exist for /content/drive/MyDrive/Autistic/Combined/Abnormal/A137.wav. Skipping.\n",
            "Features already exist for /content/drive/MyDrive/Autistic/Combined/Abnormal/A136.wav. Skipping.\n",
            "Features already exist for /content/drive/MyDrive/Autistic/Combined/Abnormal/A138.wav. Skipping.\n",
            "Features already exist for /content/drive/MyDrive/Autistic/Combined/Abnormal/A140.wav. Skipping.\n",
            "Features already exist for /content/drive/MyDrive/Autistic/Combined/Abnormal/A139.wav. Skipping.\n",
            "Features already exist for /content/drive/MyDrive/Autistic/Combined/Abnormal/A145.wav. Skipping.\n",
            "Features already exist for /content/drive/MyDrive/Autistic/Combined/Abnormal/A143.wav. Skipping.\n",
            "Features already exist for /content/drive/MyDrive/Autistic/Combined/Abnormal/A144.wav. Skipping.\n",
            "Features already exist for /content/drive/MyDrive/Autistic/Combined/Abnormal/A141.wav. Skipping.\n",
            "Features already exist for /content/drive/MyDrive/Autistic/Combined/Abnormal/A146.wav. Skipping.\n",
            "Features already exist for /content/drive/MyDrive/Autistic/Combined/Abnormal/A142.wav. Skipping.\n",
            "Features already exist for /content/drive/MyDrive/Autistic/Combined/Abnormal/A147.wav. Skipping.\n",
            "Features already exist for /content/drive/MyDrive/Autistic/Combined/Abnormal/A151.wav. Skipping.\n",
            "Features already exist for /content/drive/MyDrive/Autistic/Combined/Abnormal/A148.wav. Skipping.\n",
            "Features already exist for /content/drive/MyDrive/Autistic/Combined/Abnormal/A150.wav. Skipping.\n",
            "Features already exist for /content/drive/MyDrive/Autistic/Combined/Abnormal/A149.wav. Skipping.\n",
            "Features already exist for /content/drive/MyDrive/Autistic/Combined/Abnormal/A007.wav. Skipping.\n",
            "Features already exist for /content/drive/MyDrive/Autistic/Combined/Abnormal/A008.wav. Skipping.\n",
            "Features already exist for /content/drive/MyDrive/Autistic/Combined/Abnormal/A009.wav. Skipping.\n",
            "Features already exist for /content/drive/MyDrive/Autistic/Combined/Abnormal/A002.wav. Skipping.\n",
            "Features already exist for /content/drive/MyDrive/Autistic/Combined/Abnormal/A003.wav. Skipping.\n",
            "Features already exist for /content/drive/MyDrive/Autistic/Combined/Abnormal/A006.wav. Skipping.\n",
            "Features already exist for /content/drive/MyDrive/Autistic/Combined/Abnormal/A005.wav. Skipping.\n",
            "Features already exist for /content/drive/MyDrive/Autistic/Combined/Abnormal/A004.wav. Skipping.\n",
            "Features already exist for /content/drive/MyDrive/Autistic/Combined/Abnormal/A001.wav. Skipping.\n",
            "Features already exist for /content/drive/MyDrive/Autistic/Combined/Abnormal/A020.wav. Skipping.\n",
            "Features already exist for /content/drive/MyDrive/Autistic/Combined/Abnormal/A018.wav. Skipping.\n",
            "Features already exist for /content/drive/MyDrive/Autistic/Combined/Abnormal/A019.wav. Skipping.\n",
            "Features already exist for /content/drive/MyDrive/Autistic/Combined/Abnormal/A021.wav. Skipping.\n",
            "Features already exist for /content/drive/MyDrive/Autistic/Combined/Abnormal/A026.wav. Skipping.\n",
            "Features already exist for /content/drive/MyDrive/Autistic/Combined/Abnormal/A034.wav. Skipping.\n",
            "Features already exist for /content/drive/MyDrive/Autistic/Combined/Abnormal/A036.wav. Skipping.\n",
            "Features already exist for /content/drive/MyDrive/Autistic/Combined/Abnormal/A033.wav. Skipping.\n",
            "Features already exist for /content/drive/MyDrive/Autistic/Combined/Abnormal/A032.wav. Skipping.\n",
            "Features already exist for /content/drive/MyDrive/Autistic/Combined/Abnormal/A027.wav. Skipping.\n",
            "Features already exist for /content/drive/MyDrive/Autistic/Combined/Abnormal/A028.wav. Skipping.\n",
            "Features already exist for /content/drive/MyDrive/Autistic/Combined/Abnormal/A035.wav. Skipping.\n",
            "Features already exist for /content/drive/MyDrive/Autistic/Combined/Abnormal/A037.wav. Skipping.\n",
            "Features already exist for /content/drive/MyDrive/Autistic/Combined/Abnormal/A031.wav. Skipping.\n",
            "Features already exist for /content/drive/MyDrive/Autistic/Combined/Abnormal/A029.wav. Skipping.\n",
            "Features already exist for /content/drive/MyDrive/Autistic/Combined/Abnormal/A030.wav. Skipping.\n",
            "Features already exist for /content/drive/MyDrive/Autistic/Combined/Abnormal/A040.wav. Skipping.\n",
            "Features already exist for /content/drive/MyDrive/Autistic/Combined/Abnormal/A041.wav. Skipping.\n",
            "Features already exist for /content/drive/MyDrive/Autistic/Combined/Abnormal/A042.wav. Skipping.\n",
            "Features already exist for /content/drive/MyDrive/Autistic/Combined/Abnormal/A039.wav. Skipping.\n",
            "Features already exist for /content/drive/MyDrive/Autistic/Combined/Abnormal/A038.wav. Skipping.\n",
            "Features already exist for /content/drive/MyDrive/Autistic/Combined/Abnormal/A043.wav. Skipping.\n",
            "Features already exist for /content/drive/MyDrive/Autistic/Combined/Abnormal/A046.wav. Skipping.\n",
            "Features already exist for /content/drive/MyDrive/Autistic/Combined/Abnormal/A047.wav. Skipping.\n",
            "Features already exist for /content/drive/MyDrive/Autistic/Combined/Abnormal/A045.wav. Skipping.\n",
            "Features already exist for /content/drive/MyDrive/Autistic/Combined/Abnormal/A049.wav. Skipping.\n",
            "Features already exist for /content/drive/MyDrive/Autistic/Combined/Abnormal/A051.wav. Skipping.\n",
            "Features already exist for /content/drive/MyDrive/Autistic/Combined/Abnormal/A044.wav. Skipping.\n",
            "Features already exist for /content/drive/MyDrive/Autistic/Combined/Abnormal/A048.wav. Skipping.\n",
            "Features already exist for /content/drive/MyDrive/Autistic/Combined/Abnormal/A050.wav. Skipping.\n",
            "Features already exist for /content/drive/MyDrive/Autistic/Combined/Abnormal/A052.wav. Skipping.\n",
            "Features already exist for /content/drive/MyDrive/Autistic/Combined/Abnormal/A061.wav. Skipping.\n",
            "Features saved to /content/drive/MyDrive/Autistic/Combined/Features_trillson/Abnormal/A070.csv\n",
            "Features saved to /content/drive/MyDrive/Autistic/Combined/Features_trillson/Abnormal/A071.csv\n",
            "Features saved to /content/drive/MyDrive/Autistic/Combined/Features_trillson/Abnormal/A062.csv\n",
            "Features saved to /content/drive/MyDrive/Autistic/Combined/Features_trillson/Abnormal/A069.csv\n",
            "Features saved to /content/drive/MyDrive/Autistic/Combined/Features_trillson/Abnormal/A073.csv\n",
            "Features saved to /content/drive/MyDrive/Autistic/Combined/Features_trillson/Abnormal/A074.csv\n",
            "Features saved to /content/drive/MyDrive/Autistic/Combined/Features_trillson/Abnormal/A072.csv\n"
          ]
        }
      ]
    }
  ],
  "metadata": {
    "colab": {
      "provenance": []
    },
    "kernelspec": {
      "display_name": "Python 3",
      "name": "python3"
    },
    "language_info": {
      "name": "python"
    },
    "accelerator": "TPU"
  },
  "nbformat": 4,
  "nbformat_minor": 0
}